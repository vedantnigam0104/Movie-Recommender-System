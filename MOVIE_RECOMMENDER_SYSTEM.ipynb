{
  "nbformat": 4,
  "nbformat_minor": 0,
  "metadata": {
    "colab": {
      "provenance": []
    },
    "kernelspec": {
      "name": "python3",
      "display_name": "Python 3"
    },
    "language_info": {
      "name": "python"
    }
  },
  "cells": [
    {
      "cell_type": "code",
      "execution_count": 10,
      "metadata": {
        "id": "uSEAViih0T8H",
        "colab": {
          "base_uri": "https://localhost:8080/"
        },
        "outputId": "26084adf-9ce8-40eb-b49c-dc587189ccc1"
      },
      "outputs": [
        {
          "output_type": "stream",
          "name": "stdout",
          "text": [
            "1.5.3\n"
          ]
        }
      ],
      "source": [
        "import numpy as np\n",
        "\n",
        "import pandas as pd\n",
        "\n",
        "print(pd.__version__)\n",
        "\n",
        "movies = pd.read_csv('tmdb_5000_movies.csv')\n",
        "\n",
        "credits=pd.read_csv('tmdb_5000_credits.csv')\n",
        "\n",
        "movies.head(2)\n",
        "\n",
        "movies.shape\n",
        "\n",
        "movies = movies.merge(credits,on='title')\n",
        "\n",
        "movies.head(1)\n",
        "\n",
        "movies=movies[['movie_id','title','overview','genres','keywords','cast','crew']]"
      ]
    },
    {
      "cell_type": "code",
      "source": [
        "movies.head()\n",
        "\n",
        "movies.isnull().sum()\n",
        "\n",
        "movies.dropna(inplace=True)\n",
        "\n",
        "#movies.duplicated().sum()\n",
        "\n",
        "import ast\n",
        "def convert(text):\n",
        "    L = []\n",
        "    for i in ast.literal_eval(text):\n",
        "        L.append(i['name'])\n",
        "    return L\n",
        "\n",
        "movies['genres'] = movies['genres'].apply(convert)\n",
        "movies.head()\n",
        "\n",
        "movies['keywords'] = movies['keywords'].apply(convert)\n",
        "movies.head()\n",
        "\n",
        "import ast\n",
        "ast.literal_eval('[{\"id\": 28, \"name\": \"Action\"}, {\"id\": 12, \"name\": \"Adventure\"}, {\"id\": 14, \"name\": \"Fantasy\"}, {\"id\": 878, \"name\": \"Science Fiction\"}]')\n",
        "def convert3(text):\n",
        "    L = []\n",
        "    counter = 0\n",
        "    for i in ast.literal_eval(text):\n",
        "        if counter < 3:\n",
        "            L.append(i['name'])\n",
        "        counter+=1\n",
        "    return L\n",
        "movies['cast'] = movies['cast'].apply(convert)\n",
        "movies.head()\n",
        "\n",
        "movies['cast'] = movies['cast'].apply(lambda x:x[0:3])\n",
        "def fetch_director(text):\n",
        "    L = []\n",
        "    for i in ast.literal_eval(text):\n",
        "        if i['job'] == 'Director':\n",
        "            L.append(i['name'])\n",
        "    return L\n",
        "movies['crew'] = movies['crew'].apply(fetch_director)\n",
        "#movies['overview'] = movies['overview'].apply(lambda x:x.split())\n",
        "movies.sample(5)\n",
        "\n",
        "\n",
        "def collapse(L):\n",
        "    L1 = []\n",
        "    for i in L:\n",
        "        L1.append(i.replace(\" \",\"\"))\n",
        "    return L1\n",
        "movies['cast'] = movies['cast'].apply(collapse)\n",
        "movies['crew'] = movies['crew'].apply(collapse)\n",
        "movies['genres'] = movies['genres'].apply(collapse)\n",
        "movies['keywords'] = movies['keywords'].apply(collapse)\n",
        "movies.head()\n",
        "\n",
        "movies['overview'] = movies['overview'].apply(lambda x:x.split())\n",
        "movies['tags'] = movies['overview'] + movies['genres'] + movies['keywords'] + movies['cast'] + movies['crew']\n",
        "new = movies.drop(columns=['overview','genres','keywords','cast','crew'])\n",
        "#new.head()\n",
        "new['tags'] = new['tags'].apply(lambda x: \" \".join(x))\n",
        "new.head()\n",
        "\n",
        "from sklearn.feature_extraction.text import CountVectorizer\n",
        "cv = CountVectorizer(max_features=5000,stop_words='english')\n",
        "\n",
        "vector = cv.fit_transform(new['tags']).toarray()\n",
        "vector.shape\n",
        "from sklearn.metrics.pairwise import cosine_similarity\n",
        "similarity = cosine_similarity(vector)\n",
        "similarity\n",
        "new[new['title'] == 'The Lego Movie'].index[0]\n",
        "def recommend(movie):\n",
        "    index = new[new['title'] == movie].index[0]\n",
        "    distances = sorted(list(enumerate(similarity[index])),reverse=True,key = lambda x: x[1])\n",
        "    for i in distances[1:6]:\n",
        "        print(new.iloc[i[0]].title)\n",
        "\n",
        "\n",
        "recommend('Gandhi')\n",
        "\n",
        "import pickle\n",
        "pickle.dump(new,open('movie_list.pkl','wb'))\n",
        "pickle.dump(similarity,open('similarity.pkl','wb'))\n",
        "\n",
        "pickle.dump(new.to_dict(),open('movie_dict.pkl','wb'))\n",
        "\n"
      ],
      "metadata": {
        "colab": {
          "base_uri": "https://localhost:8080/"
        },
        "id": "1XVIb8Ow56up",
        "outputId": "2b22cf01-4658-4c05-da93-44b5bcc5490f"
      },
      "execution_count": 11,
      "outputs": [
        {
          "output_type": "stream",
          "name": "stdout",
          "text": [
            "Gandhi, My Father\n",
            "The Wind That Shakes the Barley\n",
            "A Passage to India\n",
            "Guiana 1838\n",
            "Ramanujan\n"
          ]
        }
      ]
    }
  ]
}